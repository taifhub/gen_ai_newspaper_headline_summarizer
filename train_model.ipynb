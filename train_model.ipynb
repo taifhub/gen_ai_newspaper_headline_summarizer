{
  "cells": [
    {
      "cell_type": "markdown",
      "metadata": {},
      "source": [
        "# Fine-tune T5-Small for News Headline Generation\n",
        "\n",
        "This notebook fine-tunes the T5-small model on the CNN/DailyMail dataset to generate catchy news headlines from articles.\n"
      ]
    },
    {
      "cell_type": "markdown",
      "metadata": {},
      "source": [
        "## 1. Setup and Imports\n"
      ]
    },
    {
      "cell_type": "code",
      "execution_count": null,
      "metadata": {},
      "outputs": [],
      "source": [
        "import os\n",
        "import torch\n",
        "from datasets import load_dataset\n",
        "from transformers import (\n",
        "    T5Tokenizer,\n",
        "    T5ForConditionalGeneration,\n",
        "    TrainingArguments,\n",
        "    Trainer,\n",
        "    DataCollatorForSeq2Seq\n",
        ")\n",
        "from transformers import pipeline\n",
        "import numpy as np\n",
        "\n",
        "# Check if GPU is available\n",
        "device = \"cuda\" if torch.cuda.is_available() else \"cpu\"\n",
        "print(f\"Using device: {device}\")\n"
      ]
    },
    {
      "cell_type": "markdown",
      "metadata": {},
      "source": [
        "## 2. Load CNN/DailyMail Dataset\n",
        "\n",
        "We'll use a subset of the dataset for faster training. The dataset contains news articles with highlights that we'll use as target headlines.\n"
      ]
    },
    {
      "cell_type": "code",
      "execution_count": null,
      "metadata": {},
      "outputs": [],
      "source": [
        "# Load dataset - using version 3.0.0\n",
        "print(\"Loading CNN/DailyMail dataset...\")\n",
        "dataset = load_dataset(\"cnn_dailymail\", \"3.0.0\")\n",
        "\n",
        "# Use a subset for faster training\n",
        "# For a simple project, 10,000 training samples is sufficient\n",
        "train_size = 10000\n",
        "val_size = 1000\n",
        "\n",
        "train_dataset = dataset[\"train\"].shuffle(seed=42).select(range(train_size))\n",
        "val_dataset = dataset[\"validation\"].shuffle(seed=42).select(range(val_size))\n",
        "\n",
        "print(f\"Training samples: {len(train_dataset)}\")\n",
        "print(f\"Validation samples: {len(val_dataset)}\")\n",
        "print(\"\\nExample article:\")\n",
        "print(train_dataset[0][\"article\"][:300])\n",
        "print(\"\\nExample highlights:\")\n",
        "print(train_dataset[0][\"highlights\"])\n"
      ]
    },
    {
      "cell_type": "markdown",
      "metadata": {},
      "source": [
        "## 3. Initialize Model and Tokenizer\n"
      ]
    },
    {
      "cell_type": "code",
      "execution_count": null,
      "metadata": {},
      "outputs": [],
      "source": [
        "# Load T5-small model and tokenizer\n",
        "model_name = \"t5-small\"\n",
        "tokenizer = T5Tokenizer.from_pretrained(model_name)\n",
        "model = T5ForConditionalGeneration.from_pretrained(model_name)\n",
        "\n",
        "print(f\"Model loaded: {model_name}\")\n",
        "print(f\"Model parameters: {model.num_parameters():,}\")\n"
      ]
    },
    {
      "cell_type": "markdown",
      "metadata": {},
      "source": [
        "## 4. Preprocess Dataset\n",
        "\n",
        "T5 requires a specific format: \"summarize: [article]\" as input and the summary/headline as output.\n"
      ]
    },
    {
      "cell_type": "code",
      "execution_count": null,
      "metadata": {},
      "outputs": [],
      "source": [
        "# Preprocessing function\n",
        "max_input_length = 512  # Maximum tokens for input article\n",
        "max_target_length = 128  # Maximum tokens for output headline\n",
        "\n",
        "def preprocess_function(examples):\n",
        "    \"\"\"Tokenize articles and highlights for T5 model.\"\"\"\n",
        "    # Add T5 prefix for summarization task\n",
        "    inputs = [\"summarize: \" + doc for doc in examples[\"article\"]]\n",
        "    \n",
        "    # Tokenize inputs\n",
        "    model_inputs = tokenizer(\n",
        "        inputs,\n",
        "        max_length=max_input_length,\n",
        "        truncation=True,\n",
        "        padding=\"max_length\"\n",
        "    )\n",
        "    \n",
        "    # Tokenize targets (highlights/summaries)\n",
        "    labels = tokenizer(\n",
        "        examples[\"highlights\"],\n",
        "        max_length=max_target_length,\n",
        "        truncation=True,\n",
        "        padding=\"max_length\"\n",
        "    )\n",
        "    \n",
        "    model_inputs[\"labels\"] = labels[\"input_ids\"]\n",
        "    return model_inputs\n",
        "\n",
        "# Apply preprocessing\n",
        "print(\"Tokenizing datasets...\")\n",
        "tokenized_train = train_dataset.map(\n",
        "    preprocess_function,\n",
        "    batched=True,\n",
        "    remove_columns=train_dataset.column_names\n",
        ")\n",
        "\n",
        "tokenized_val = val_dataset.map(\n",
        "    preprocess_function,\n",
        "    batched=True,\n",
        "    remove_columns=val_dataset.column_names\n",
        ")\n",
        "\n",
        "print(\"Tokenization complete!\")\n"
      ]
    },
    {
      "cell_type": "markdown",
      "metadata": {},
      "source": [
        "## 5. Configure Training Arguments\n"
      ]
    },
    {
      "cell_type": "code",
      "execution_count": null,
      "metadata": {},
      "outputs": [],
      "source": [
        "# Create output directory\n",
        "output_dir = \"./models/t5-small-headlines\"\n",
        "os.makedirs(output_dir, exist_ok=True)\n",
        "\n",
        "# Training arguments\n",
        "training_args = TrainingArguments(\n",
        "    output_dir=output_dir,\n",
        "    num_train_epochs=3,\n",
        "    per_device_train_batch_size=8,\n",
        "    per_device_eval_batch_size=8,\n",
        "    warmup_steps=500,\n",
        "    weight_decay=0.01,\n",
        "    logging_dir=\"./logs\",\n",
        "    logging_steps=100,\n",
        "    eval_strategy=\"steps\",\n",
        "    eval_steps=500,\n",
        "    save_steps=1000,\n",
        "    save_total_limit=2,\n",
        "    learning_rate=3e-4,\n",
        "    fp16=torch.cuda.is_available(),  # Use mixed precision if GPU available\n",
        "    load_best_model_at_end=True,\n",
        "    metric_for_best_model=\"eval_loss\",\n",
        "    push_to_hub=False,\n",
        ")\n",
        "\n",
        "print(\"Training configuration:\")\n",
        "print(f\"  Epochs: {training_args.num_train_epochs}\")\n",
        "print(f\"  Batch size: {training_args.per_device_train_batch_size}\")\n",
        "print(f\"  Learning rate: {training_args.learning_rate}\")\n",
        "print(f\"  Output directory: {training_args.output_dir}\")\n"
      ]
    },
    {
      "cell_type": "markdown",
      "metadata": {},
      "source": [
        "## 6. Initialize Trainer and Start Training\n"
      ]
    },
    {
      "cell_type": "code",
      "execution_count": null,
      "metadata": {},
      "outputs": [],
      "source": [
        "# Data collator for dynamic padding\n",
        "data_collator = DataCollatorForSeq2Seq(\n",
        "    tokenizer=tokenizer,\n",
        "    model=model,\n",
        "    padding=True\n",
        ")\n",
        "\n",
        "# Initialize Trainer\n",
        "trainer = Trainer(\n",
        "    model=model,\n",
        "    args=training_args,\n",
        "    train_dataset=tokenized_train,\n",
        "    eval_dataset=tokenized_val,\n",
        "    tokenizer=tokenizer,\n",
        "    data_collator=data_collator,\n",
        ")\n",
        "\n",
        "print(\"Starting training...\")\n",
        "print(\"This may take 30-60 minutes depending on your hardware.\")\n",
        "print(\"=\"*50)\n"
      ]
    },
    {
      "cell_type": "code",
      "execution_count": null,
      "metadata": {},
      "outputs": [],
      "source": [
        "# Train the model\n",
        "trainer.train()\n"
      ]
    },
    {
      "cell_type": "markdown",
      "metadata": {},
      "source": [
        "## 7. Save the Fine-tuned Model\n"
      ]
    },
    {
      "cell_type": "code",
      "execution_count": null,
      "metadata": {},
      "outputs": [],
      "source": [
        "# Save the final model\n",
        "final_model_path = \"./models/t5-small-headlines-final\"\n",
        "trainer.save_model(final_model_path)\n",
        "tokenizer.save_pretrained(final_model_path)\n",
        "\n",
        "print(f\"\\nModel saved to: {final_model_path}\")\n",
        "print(\"Training complete!\")\n"
      ]
    },
    {
      "cell_type": "markdown",
      "metadata": {},
      "source": [
        "## 8. Quick Test of the Fine-tuned Model\n"
      ]
    },
    {
      "cell_type": "code",
      "execution_count": null,
      "metadata": {},
      "outputs": [],
      "source": [
        "# Load the fine-tuned model for testing\n",
        "fine_tuned_model = T5ForConditionalGeneration.from_pretrained(final_model_path)\n",
        "fine_tuned_tokenizer = T5Tokenizer.from_pretrained(final_model_path)\n",
        "\n",
        "# Create a summarization pipeline\n",
        "summarizer = pipeline(\n",
        "    \"summarization\",\n",
        "    model=fine_tuned_model,\n",
        "    tokenizer=fine_tuned_tokenizer,\n",
        "    device=0 if torch.cuda.is_available() else -1\n",
        ")\n",
        "\n",
        "# Test with a sample article\n",
        "test_article = dataset[\"test\"][0][\"article\"]\n",
        "original_highlights = dataset[\"test\"][0][\"highlights\"]\n",
        "\n",
        "print(\"Original article (first 500 chars):\")\n",
        "print(test_article[:500])\n",
        "print(\"\\n\" + \"=\"*50)\n",
        "print(\"\\nOriginal highlights:\")\n",
        "print(original_highlights)\n",
        "print(\"\\n\" + \"=\"*50)\n",
        "print(\"\\nGenerated headline:\")\n",
        "result = summarizer(test_article, max_length=128, min_length=10, do_sample=False)\n",
        "print(result[0][\"summary_text\"])\n"
      ]
    },
    {
      "cell_type": "markdown",
      "metadata": {},
      "source": [
        "## Next Steps\n",
        "\n",
        "Now that the model is trained, proceed to `headline_summarizer.ipynb` to:\n",
        "- Use the fine-tuned model for headline generation\n",
        "- Integrate with LangChain for flexible prompting\n",
        "- Test different headline styles (exciting, formal, short, etc.)\n"
      ]
    }
  ],
  "metadata": {
    "kernelspec": {
      "display_name": "newspaper-headline-summarizer",
      "language": "python",
      "name": "python3"
    },
    "language_info": {
      "name": "python",
      "version": "3.9.23"
    }
  },
  "nbformat": 4,
  "nbformat_minor": 2
}
